{
  "nbformat": 4,
  "nbformat_minor": 0,
  "metadata": {
    "colab": {
      "name": "Training Day3III.ipynb",
      "provenance": [],
      "collapsed_sections": []
    },
    "kernelspec": {
      "name": "python3",
      "display_name": "Python 3"
    },
    "language_info": {
      "name": "python"
    }
  },
  "cells": [
    {
      "cell_type": "markdown",
      "source": [
        "Indexing and negative indexing on list, tuple, dictionary and set"
      ],
      "metadata": {
        "id": "SvuAx1IUdZ8m"
      }
    },
    {
      "cell_type": "code",
      "execution_count": null,
      "metadata": {
        "colab": {
          "base_uri": "https://localhost:8080/"
        },
        "id": "6Vxtm4A8dSNk",
        "outputId": "867b7669-c853-4a6e-a947-2bd9a2a61c1c"
      },
      "outputs": [
        {
          "output_type": "stream",
          "name": "stdout",
          "text": [
            "[2, 4, 9, 5, 'A', 'B']\n",
            "9\n",
            "A\n",
            "5\n",
            "4\n",
            "[2, 4, 9]\n",
            "[9, 5, 'A']\n"
          ]
        }
      ],
      "source": [
        "# indexing on list\n",
        "list = [2,4,9,5,\"A\",\"B\"]\n",
        "print(list)\n",
        "print(list[2])\n",
        "print(list[4])\n",
        "\n",
        "#Negative Indexing on list\n",
        "print(list[-3])\n",
        "print(list[-5])\n",
        "\n",
        "#slicing on list\n",
        "l1 = slice(3)\n",
        "l2 = slice(2,5)\n",
        "print(list[l1])\n",
        "print(list[l2])\n"
      ]
    },
    {
      "cell_type": "code",
      "source": [
        "#indexing on tuple\n",
        "tuple = (2,5,8,9)\n",
        "print(tuple)\n",
        "print(tuple[2])\n",
        "print(tuple[1])\n",
        "\n",
        "#negative indexing on tuple\n",
        "print(tuple[-3])\n",
        "print(tuple[-2])\n",
        "\n",
        "#slicing on tuple\n",
        "t1 = slice(3)\n",
        "t2 = slice(2)\n",
        "print(tuple[t1])\n",
        "print(tuple[t2])"
      ],
      "metadata": {
        "colab": {
          "base_uri": "https://localhost:8080/"
        },
        "id": "8dtDTHMhe1za",
        "outputId": "190f7908-a498-4074-8913-3b09a3863bb6"
      },
      "execution_count": null,
      "outputs": [
        {
          "output_type": "stream",
          "name": "stdout",
          "text": [
            "(2, 5, 8, 9)\n",
            "8\n",
            "5\n",
            "5\n",
            "8\n",
            "(2, 5, 8)\n",
            "(2, 5)\n"
          ]
        }
      ]
    },
    {
      "cell_type": "code",
      "source": [
        "# set do not support any indexing or slicing operation\n",
        "set = {2,4,5,6,9,5,8,6,1,3,7,}\n",
        "print(set)\n",
        "\n"
      ],
      "metadata": {
        "colab": {
          "base_uri": "https://localhost:8080/"
        },
        "id": "MloSSitlfvVO",
        "outputId": "00accd6e-ef4d-4051-c24a-6d45be8e97ad"
      },
      "execution_count": null,
      "outputs": [
        {
          "output_type": "stream",
          "name": "stdout",
          "text": [
            "{1, 2, 3, 4, 5, 6, 7, 8, 9}\n"
          ]
        }
      ]
    },
    {
      "cell_type": "code",
      "source": [
        "# indexing, negative indexing and slicing  on dictionary\n",
        "my_dict = {\"name\":\"Hruta\",\"address\":\"kopargaon\",\"class\":\"TYBTech\"}\n",
        "\n",
        "print(my_dict)"
      ],
      "metadata": {
        "colab": {
          "base_uri": "https://localhost:8080/"
        },
        "id": "9E9WsjBlP7w1",
        "outputId": "c40f8e8b-e08a-461d-cddc-fa2ec885b19e"
      },
      "execution_count": 6,
      "outputs": [
        {
          "output_type": "stream",
          "name": "stdout",
          "text": [
            "{'name': 'Hruta', 'address': 'kopargaon', 'class': 'TYBTech'}\n"
          ]
        }
      ]
    }
  ]
}