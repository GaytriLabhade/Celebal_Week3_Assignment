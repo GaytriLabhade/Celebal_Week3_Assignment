{
  "nbformat": 4,
  "nbformat_minor": 0,
  "metadata": {
    "colab": {
      "name": "Training Day3_I.ipynb",
      "provenance": [],
      "collapsed_sections": []
    },
    "kernelspec": {
      "name": "python3",
      "display_name": "Python 3"
    },
    "language_info": {
      "name": "python"
    }
  },
  "cells": [
    {
      "cell_type": "markdown",
      "source": [
        "  Numeric data type in python\n",
        "\n"
      ],
      "metadata": {
        "id": "PW-ulUV7tfwy"
      }
    },
    {
      "cell_type": "code",
      "execution_count": null,
      "metadata": {
        "colab": {
          "base_uri": "https://localhost:8080/"
        },
        "id": "dd-PeFkPtPWU",
        "outputId": "15a192bf-d3ac-4cfa-9883-9cad7558a99a"
      },
      "outputs": [
        {
          "output_type": "stream",
          "name": "stdout",
          "text": [
            "<class 'int'>\n",
            "<class 'float'>\n",
            "<class 'str'>\n",
            "<class 'complex'>\n"
          ]
        }
      ],
      "source": [
        "print(type(8))                #integer datatype\n",
        "print(type(3.9))              #float\n",
        "print(type(\"Engineering\"))    #string\n",
        "print(type(3j))               #complex"
      ]
    },
    {
      "cell_type": "code",
      "source": [
        "g = 0b1001111   #binary\n",
        "h = 0xAB + 0b10 #hexadecimal\n",
        "l = 0o10        #octal\n",
        "print(type(g))\n",
        "print(g)\n",
        "print(type(h))\n",
        "print(h)\n",
        "print(type(l))\n",
        "print(l)"
      ],
      "metadata": {
        "colab": {
          "base_uri": "https://localhost:8080/"
        },
        "id": "PBhFcvoxwbaX",
        "outputId": "bf9b856e-b0de-4222-d5ed-206faaa33474"
      },
      "execution_count": null,
      "outputs": [
        {
          "output_type": "stream",
          "name": "stdout",
          "text": [
            "<class 'int'>\n",
            "79\n",
            "<class 'int'>\n",
            "173\n",
            "<class 'int'>\n",
            "8\n"
          ]
        }
      ]
    },
    {
      "cell_type": "markdown",
      "source": [
        "List in Python"
      ],
      "metadata": {
        "id": "fNoSp9N92dHN"
      }
    },
    {
      "cell_type": "code",
      "source": [
        "list_a = [] \n",
        "print(list_a)                       #empty list\n",
        "list_b = [1,2,3,4,5]  \n",
        "print(list_b)                       #integer\n",
        "list_c = [1, \"Rina\", \"Apple\", 1.1] \n",
        "print(list_c)                       #mixed datatypes\n",
        "print(list_c[2])\n",
        "print(list_c[3])\n",
        "print(list_b[3])"
      ],
      "metadata": {
        "colab": {
          "base_uri": "https://localhost:8080/"
        },
        "id": "V6Y-ZAi12gEY",
        "outputId": "6efc7084-3222-4a33-9b5e-65f003ec6e47"
      },
      "execution_count": null,
      "outputs": [
        {
          "output_type": "stream",
          "name": "stdout",
          "text": [
            "[]\n",
            "[1, 2, 3, 4, 5]\n",
            "[1, 'Rina', 'Apple', 1.1]\n",
            "Apple\n",
            "1.1\n",
            "4\n"
          ]
        }
      ]
    },
    {
      "cell_type": "markdown",
      "source": [
        "Nested List and Negative Indexing"
      ],
      "metadata": {
        "id": "7lws9JWbKPGY"
      }
    },
    {
      "cell_type": "code",
      "source": [
        "ThisList = [\"bat\",[1,2,4], \"News\"]\n",
        "print(ThisList)\n",
        "print(ThisList[1][2])\n",
        "print(ThisList[0][1])\n",
        "print(ThisList[0][2])\n",
        "print(ThisList[-1])           #Negative Indexing\n",
        "print(ThisList[-2])\n",
        "ThisList[1] = [\"Ball\"]        #Changing the items in list\n",
        "print(ThisList)"
      ],
      "metadata": {
        "colab": {
          "base_uri": "https://localhost:8080/"
        },
        "id": "HhdxTvKyKTEd",
        "outputId": "abdc007b-c240-4c75-bf6d-1b6f10d29958"
      },
      "execution_count": 10,
      "outputs": [
        {
          "output_type": "stream",
          "name": "stdout",
          "text": [
            "['bat', [1, 2, 4], 'News']\n",
            "4\n",
            "a\n",
            "t\n",
            "News\n",
            "[1, 2, 4]\n",
            "['bat', ['Ball'], 'News']\n"
          ]
        }
      ]
    },
    {
      "cell_type": "markdown",
      "source": [
        "Tuples"
      ],
      "metadata": {
        "id": "kNOIlIG_Pbt4"
      }
    },
    {
      "cell_type": "code",
      "source": [
        "tuple_1 = ()     #Empty tuple\n",
        "print(tuple_1)\n",
        "tuple_2 = (9,8,7,6)   #integers\n",
        "print(tuple_2)\n",
        "tuple_3 = (5,7,\"Laptop\", 13.19)  #Mixed datatypes\n",
        "print(tuple_3)\n",
        "tuple_4 = (2,4,5,(\"bat\",\"ball\"),[3,3])   #nested tuples\n",
        "print(tuple_4)\n",
        "\n",
        "print(tuple_2[3])      #indexing\n",
        "print(tuple_2[-2])     #negative indexing\n",
        "print(tuple_3[2][3])   #nested indexing\n",
        "\n"
      ],
      "metadata": {
        "id": "ydO1V2kE4LxL",
        "colab": {
          "base_uri": "https://localhost:8080/"
        },
        "outputId": "5fd585da-2c12-4a48-dbf0-f1c72b71c37f"
      },
      "execution_count": 22,
      "outputs": [
        {
          "output_type": "stream",
          "name": "stdout",
          "text": [
            "()\n",
            "(9, 8, 7, 6)\n",
            "(5, 7, 'Laptop', 13.19)\n",
            "(2, 4, 5, ('bat', 'ball'), [3, 3])\n",
            "6\n",
            "7\n",
            "t\n"
          ]
        }
      ]
    },
    {
      "cell_type": "code",
      "source": [
        "tuple = (2,3,4,[4,3])\n",
        "print(tuple)\n",
        "tuple[3][0] = [1,1]   #mutable item can be changed\n",
        "print(tuple)\n",
        "\n"
      ],
      "metadata": {
        "colab": {
          "base_uri": "https://localhost:8080/"
        },
        "id": "l7WC-z3fTZFo",
        "outputId": "a84de716-43f5-4247-8417-4304792e681c"
      },
      "execution_count": 32,
      "outputs": [
        {
          "output_type": "stream",
          "name": "stdout",
          "text": [
            "(2, 3, 4, [4, 3])\n",
            "(2, 3, 4, [[1, 1], 3])\n"
          ]
        }
      ]
    },
    {
      "cell_type": "markdown",
      "source": [
        "String in python"
      ],
      "metadata": {
        "id": "XGpdfKsKVbeu"
      }
    },
    {
      "cell_type": "code",
      "source": [
        "my_str = \"Sanjivani\"   #datatype string\n",
        "print(type(my_str))\n",
        "\n",
        "my_str = 'Sanjivani'      #single quotes\n",
        "print(my_str)\n",
        "\n",
        "my_str = \"Sanjivani\"      #double quotes\n",
        "print(my_str)\n",
        "\n",
        "my_str = '''Sanjivani'''    #Tripple quotes\n",
        "print(my_str)\n",
        "\n",
        "my_str = \"\"\" Happy Learning Journey!!!     \n",
        "                        with Celebal!!!\"\"\"  #multiple line strings\n",
        "print(my_str)\n"
      ],
      "metadata": {
        "colab": {
          "base_uri": "https://localhost:8080/"
        },
        "id": "YuUkqFCnVeAv",
        "outputId": "94097275-dcb3-4b1e-e36e-005b496b8f96"
      },
      "execution_count": 41,
      "outputs": [
        {
          "output_type": "stream",
          "name": "stdout",
          "text": [
            "<class 'str'>\n",
            "Sanjivani\n",
            "Sanjivani\n",
            "Sanjivani\n",
            " Happy Learning Journey!!!\n",
            "                        with Celebal!!!\n"
          ]
        }
      ]
    },
    {
      "cell_type": "markdown",
      "source": [
        "Accessing characters of string in python"
      ],
      "metadata": {
        "id": "8dRaxI3SXy0w"
      }
    },
    {
      "cell_type": "code",
      "source": [
        "my_str = \"Javascript\"\n",
        "print(\"my_str = \", my_str)\n",
        "\n",
        "print(\"my_str[1] =\", my_str[1])\n",
        "print(\"my_str[2:5] =\", my_str[2:5])\n",
        "print(\"my_str[4:8] =\", my_str[4:8])\n",
        "my_str = \"JavaDeveloper\"\n",
        "print(my_str)      #Reassigned the string"
      ],
      "metadata": {
        "colab": {
          "base_uri": "https://localhost:8080/"
        },
        "id": "AwGkqDugX5B4",
        "outputId": "c02fbf52-7692-4adf-8a2a-aeb8c0c2038e"
      },
      "execution_count": 48,
      "outputs": [
        {
          "output_type": "stream",
          "name": "stdout",
          "text": [
            "my_str =  Javascript\n",
            "my_str[1] = a\n",
            "my_str[2:5] = vas\n",
            "my_str[4:8] = scri\n",
            "JavaDeveloper\n"
          ]
        }
      ]
    }
  ]
}