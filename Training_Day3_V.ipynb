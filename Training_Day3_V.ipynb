{
  "nbformat": 4,
  "nbformat_minor": 0,
  "metadata": {
    "colab": {
      "name": "Training Day3 V.ipynb",
      "provenance": [],
      "collapsed_sections": []
    },
    "kernelspec": {
      "name": "python3",
      "display_name": "Python 3"
    },
    "language_info": {
      "name": "python"
    }
  },
  "cells": [
    {
      "cell_type": "markdown",
      "source": [
        "Iterating for loop: set, dictionary, list, tuple"
      ],
      "metadata": {
        "id": "IzUc7_cOsk4r"
      }
    },
    {
      "cell_type": "code",
      "execution_count": 15,
      "metadata": {
        "id": "HJwajmbysZZc",
        "colab": {
          "base_uri": "https://localhost:8080/"
        },
        "outputId": "1ee9e7f5-393f-4d8a-dfb1-b314466869a1"
      },
      "outputs": [
        {
          "output_type": "stream",
          "name": "stdout",
          "text": [
            "Gayu\n",
            "Swati\n",
            "Pravin\n",
            "Priyanka\n",
            "\n",
            "19\n",
            "7\n",
            "May\n",
            "5\n",
            "13\n",
            "July\n",
            "\n",
            "1\n",
            "2\n",
            "3\n",
            "4\n",
            "5\n",
            "6\n",
            "7\n",
            "\n",
            "a May\n",
            "b July\n",
            "c March\n",
            "d April\n",
            "\n"
          ]
        }
      ],
      "source": [
        "#List\n",
        "H_List = [\"Gayu\",\"Swati\",\"Pravin\",\"Priyanka\"]\n",
        "for g in H_List:\n",
        "  print(g)\n",
        "print(\"\")\n",
        "\n",
        "#Tuple\n",
        "H_tuple = (19,7,\"May\",5,13,\"July\") \n",
        "for g in H_tuple:\n",
        "  print(g)\n",
        "print(\"\")\n",
        "\n",
        "#Set\n",
        "H_set = {1,2,3,4,5,6,7}\n",
        "for g in H_set:\n",
        "  print(g)\n",
        "print(\"\")\n",
        "\n",
        "#Dictionary\n",
        "H_dict = {\"a\":\"May\",\"b\":\"July\",\"c\":\"March\",\"d\":\"April\"}\n",
        "for g,h in H_dict.items():\n",
        "  print(g,h)\n",
        "print(\"\")\n"
      ]
    },
    {
      "cell_type": "markdown",
      "source": [
        "Membership Tests (in, not in)"
      ],
      "metadata": {
        "id": "MO-cobNUsjUm"
      }
    },
    {
      "cell_type": "code",
      "source": [
        "#Membership Operator (in)\n",
        "Name = [\"s\",\"a\",\"n\",\"j\",\"i\",\"v\",\"a\",\"n\",\"i\"]\n",
        "char = input(\"Enter the Letter: \")\n",
        "\n",
        "if char in Name:\n",
        "  print(\"entered letter is correct.\")\n",
        "else:\n",
        "  print(\"entered letter is incorrect\")"
      ],
      "metadata": {
        "colab": {
          "base_uri": "https://localhost:8080/"
        },
        "id": "PcD5S64JbgQ6",
        "outputId": "dc938601-9378-4091-e970-c44b188ed45f"
      },
      "execution_count": 17,
      "outputs": [
        {
          "output_type": "stream",
          "name": "stdout",
          "text": [
            "Enter the Letter: s\n",
            "entered letter is correct.\n"
          ]
        }
      ]
    },
    {
      "cell_type": "code",
      "source": [
        "#membership operator (not in)\n",
        "My_List = [\"Vaish\",\"Shubz\",\"Appi\",\"Shelu\"]\n",
        "name = input(\"Enter the name: \")\n",
        "if (name not in My_List):\n",
        "  print(\"Name is not Present in List\")\n",
        "else:\n",
        "  print(\"Name is Present in List\")"
      ],
      "metadata": {
        "colab": {
          "base_uri": "https://localhost:8080/"
        },
        "id": "S0znpcCpc6y8",
        "outputId": "3dde0409-d91d-4577-ea91-1e5b42f103c5"
      },
      "execution_count": 19,
      "outputs": [
        {
          "output_type": "stream",
          "name": "stdout",
          "text": [
            "Enter the name: Appi\n",
            "Name is Present in List\n"
          ]
        }
      ]
    },
    {
      "cell_type": "code",
      "source": [
        "#built-in function in list\n",
        "\n",
        "#empty list\n",
        "list = []\n",
        "\n",
        "#list of strings\n",
        "my_list = [\"Jan\",\"Feb\",\"March\",\"April\",\"May\"]\n",
        "print(my_list)\n",
        "\n",
        "#Add elements to end of the list\n",
        "my_list.append(\"June\")\n",
        "print(my_list)\n",
        "\n",
        "#insert an item at defined index\n",
        "my_list.insert(6,\"July\")\n",
        "print(my_list)\n",
        "\n",
        "#to get the index of first matched item\n",
        "print(my_list.index(\"May\"))\n",
        "print(my_list.index(\"July\"))\n"
      ],
      "metadata": {
        "colab": {
          "base_uri": "https://localhost:8080/"
        },
        "id": "_u1avNWbeQPM",
        "outputId": "65773813-b825-4a73-e768-b6fbc82a6a39"
      },
      "execution_count": 26,
      "outputs": [
        {
          "output_type": "stream",
          "name": "stdout",
          "text": [
            "['Jan', 'Feb', 'March', 'April', 'May']\n",
            "['Jan', 'Feb', 'March', 'April', 'May', 'June']\n",
            "['Jan', 'Feb', 'March', 'April', 'May', 'June', 'July']\n",
            "4\n",
            "6\n"
          ]
        }
      ]
    }
  ]
}