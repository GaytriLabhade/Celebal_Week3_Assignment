{
  "nbformat": 4,
  "nbformat_minor": 0,
  "metadata": {
    "colab": {
      "name": "Training Day3II.ipynb",
      "provenance": [],
      "collapsed_sections": []
    },
    "kernelspec": {
      "name": "python3",
      "display_name": "Python 3"
    },
    "language_info": {
      "name": "python"
    }
  },
  "cells": [
    {
      "cell_type": "markdown",
      "source": [
        "Set in python"
      ],
      "metadata": {
        "id": "hantHLHHwRj3"
      }
    },
    {
      "cell_type": "code",
      "execution_count": null,
      "metadata": {
        "colab": {
          "base_uri": "https://localhost:8080/"
        },
        "id": "2BEiYM3NwIc5",
        "outputId": "04e5c5ac-d21c-42ec-c00a-ebab2b9811b0"
      },
      "outputs": [
        {
          "output_type": "stream",
          "name": "stdout",
          "text": [
            "{1, 2, 3, 4, 5, 6, 7}\n",
            "{'Umbrella', 1, 9, (4, 4, 4)}\n",
            "{1, 2, 3, 4, 5, 6}\n",
            "{1, 2, 3, 4, 5, 6, 7, 10}\n",
            "{1, 2, 3, 4, 5, 6, 7, 8, 9, 10, 11, 13, 14, 15}\n",
            "frozenset({1, 2, 3, 4, 5, 6})\n"
          ]
        }
      ],
      "source": [
        "set = {1,2,3,4,5,6,7}  #initializing set of integers\n",
        "print(set)\n",
        "\n",
        "my_set = {1,9,(4,4,4),\"Umbrella\"}  #mixed datatypes\n",
        "print(my_set)\n",
        "\n",
        "set_2 = {1,2,3,2,3,4,5,6,5,4}   #set cannot have duplicates value\n",
        "print(set_2)\n",
        "\n",
        "set.add(10)     #add element in set\n",
        "print(set)\n",
        "\n",
        "set.update([8,9,11],{13,14,15})  #Update in ascending order\n",
        "print(set)\n",
        "\n",
        "frozen_set = frozenset(set_2)    #frozen set\n",
        "print(frozen_set)\n",
        "\n"
      ]
    },
    {
      "cell_type": "markdown",
      "source": [
        "Dictionaries in python"
      ],
      "metadata": {
        "id": "bxy_GIUVwP71"
      }
    },
    {
      "cell_type": "code",
      "source": [
        "dict = {}      #empty dictiory\n",
        "print(dict)\n",
        "\n",
        "dict2 = {5:\"school\", 6:\"bus\"}  #dictionary with integer key\n",
        "print(dict2)\n",
        "\n",
        "dict3 = {\"cup\":\"tea\", 3:[4,6,9], \"laptop\": \"coding\"}  #dictionary with mixed key\n",
        "print(dict3)\n"
      ],
      "metadata": {
        "colab": {
          "base_uri": "https://localhost:8080/"
        },
        "id": "KEopEQlW22vL",
        "outputId": "e27cd721-fbfc-453f-da74-5903f5b9b87a"
      },
      "execution_count": null,
      "outputs": [
        {
          "output_type": "stream",
          "name": "stdout",
          "text": [
            "{}\n",
            "{5: 'school', 6: 'bus'}\n",
            "{'cup': 'tea', 3: [4, 6, 9], 'laptop': 'coding'}\n"
          ]
        }
      ]
    },
    {
      "cell_type": "markdown",
      "source": [
        "Retrieving the elements using [ ] vs get in dictionay"
      ],
      "metadata": {
        "id": "VrVBr9-y7ZBh"
      }
    },
    {
      "cell_type": "code",
      "source": [
        "my_Dict = {\"school\": \"Sanjivani\", \"address\":\"kopargaon\"}\n",
        "print(my_Dict)\n",
        "\n",
        "print(my_Dict[\"school\"])   #using [ ]\n",
        "\n",
        "print(my_Dict.get(\"address\"))  #using get\n",
        "\n",
        "my_Dict[\"school\"] = \"Sharada\"  #update the value\n",
        "print(my_Dict)\n",
        "\n",
        "my_Dict[\"class\"] = \"10th\"   #adding item\n",
        "print(my_Dict)\n",
        "\n",
        "print(type(my_Dict))   #type of datatype"
      ],
      "metadata": {
        "colab": {
          "base_uri": "https://localhost:8080/"
        },
        "id": "T2NPyjZa7gtm",
        "outputId": "02f20b72-c251-43dd-95d1-81ab3b2403df"
      },
      "execution_count": null,
      "outputs": [
        {
          "output_type": "stream",
          "name": "stdout",
          "text": [
            "{'school': 'Sanjivani', 'address': 'kopargaon'}\n",
            "Sanjivani\n",
            "kopargaon\n",
            "{'school': 'Sharada', 'address': 'kopargaon'}\n",
            "{'school': 'Sharada', 'address': 'kopargaon', 'class': '10th'}\n",
            "<class 'dict'>\n"
          ]
        }
      ]
    },
    {
      "cell_type": "markdown",
      "source": [
        "function in python\n",
        "\n"
      ],
      "metadata": {
        "id": "TNEmPakx-0UX"
      }
    },
    {
      "cell_type": "code",
      "source": [
        "def greet(name):    #function with parameter\n",
        "  print(\"Good Morning, \"+ name + \" Have a nice day !!\")\n",
        "greet(\"Mam\")"
      ],
      "metadata": {
        "colab": {
          "base_uri": "https://localhost:8080/"
        },
        "id": "TCtdd9RdAV6n",
        "outputId": "b035320b-3d15-4692-fea2-d3deefbf3995"
      },
      "execution_count": null,
      "outputs": [
        {
          "output_type": "stream",
          "name": "stdout",
          "text": [
            "Good Morning, Mam Have a nice day !!\n"
          ]
        }
      ]
    },
    {
      "cell_type": "code",
      "source": [
        "def Hi() :     #function without parameter\n",
        "  name = input(\"Enter Name: \")\n",
        "  if name:\n",
        "    print(\"Hi \" + name)\n",
        "  else:\n",
        "    print(\"Hi Everyone!!\")\n",
        "    return\n",
        "Hi()\n"
      ],
      "metadata": {
        "colab": {
          "base_uri": "https://localhost:8080/"
        },
        "id": "5830M91zFVMG",
        "outputId": "b73162db-369c-4c7e-bf5b-f165a021e437"
      },
      "execution_count": null,
      "outputs": [
        {
          "output_type": "stream",
          "name": "stdout",
          "text": [
            "Enter Name: Gaytri\n",
            "Hi Gaytri\n"
          ]
        }
      ]
    },
    {
      "cell_type": "markdown",
      "source": [
        "Anonymous function"
      ],
      "metadata": {
        "id": "vHF1GLFlHsY3"
      }
    },
    {
      "cell_type": "code",
      "source": [
        "double = lambda x:x*2   #anonymous function\n",
        "double(2)\n",
        "\n",
        "sum1 = lambda x, y: x + y"
      ],
      "metadata": {
        "colab": {
          "base_uri": "https://localhost:8080/"
        },
        "id": "5zhjSxuZHvi4",
        "outputId": "77fdcf30-cfe1-49f0-acf6-0a7fa2de0e26"
      },
      "execution_count": null,
      "outputs": [
        {
          "output_type": "execute_result",
          "data": {
            "text/plain": [
              "4"
            ]
          },
          "metadata": {},
          "execution_count": 60
        }
      ]
    },
    {
      "cell_type": "code",
      "source": [
        "sum = lambda x,y: x + y\n",
        "print(sum(2,2))   #calling the sum() anonymous fuction\n",
        "\n",
        "\n",
        "def sum(x,y):\n",
        "  return x+y"
      ],
      "metadata": {
        "colab": {
          "base_uri": "https://localhost:8080/"
        },
        "id": "oS5OFRCrVNn-",
        "outputId": "18c73f29-88ff-40d1-92e0-6c953e3cfddd"
      },
      "execution_count": 6,
      "outputs": [
        {
          "output_type": "stream",
          "name": "stdout",
          "text": [
            "4\n"
          ]
        }
      ]
    }
  ]
}